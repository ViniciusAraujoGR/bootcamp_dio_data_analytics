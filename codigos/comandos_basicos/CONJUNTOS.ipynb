{
  "nbformat": 4,
  "nbformat_minor": 0,
  "metadata": {
    "colab": {
      "provenance": []
    },
    "kernelspec": {
      "name": "python3",
      "display_name": "Python 3"
    },
    "language_info": {
      "name": "python"
    }
  },
  "cells": [
    {
      "cell_type": "code",
      "execution_count": 20,
      "metadata": {
        "colab": {
          "base_uri": "https://localhost:8080/"
        },
        "id": "Q5kOBRfiuPF9",
        "outputId": "c6cd9387-232f-4526-8823-8009671b9404"
      },
      "outputs": [
        {
          "output_type": "execute_result",
          "data": {
            "text/plain": [
              "{1, 2, 30}"
            ]
          },
          "metadata": {},
          "execution_count": 20
        }
      ],
      "source": [
        "# CONJUNTOS SÃO LISTAS DE ELEMENTOS SEM DUPLICIDADE\n",
        "\n",
        "lista=set([1,1,2,2,3,3,3,3,3,4])\n",
        "\n",
        "\n",
        "# CONJUNTOS NAO PERMITEM INDEXAÇÃO\n",
        "\n",
        "# CONVERTTENDO CONJUNTO EM LISTA\n",
        "\n",
        "new_list=list(lista)\n",
        "\n",
        "\n",
        "# METODOS DA CLASSE SET\n",
        "\n",
        "# UNIAO  - conjunto1.union(conjunto2)\n",
        "\n",
        "conjunto_a = {1,3}\n",
        "conjunto_b={4,5,5}\n",
        "\n",
        "conjunto_a.union(conjunto_b) # 1, 3, 4, 5\n",
        "\n",
        "# INTERSECÇÃO - conjunto1.intersection(conjunto2)\n",
        "\n",
        "conjunto_a = {1,3}\n",
        "conjunto_b={4,5,6,3,1}\n",
        "\n",
        "conjunto_a.intersection(conjunto_b) # 1,3\n",
        "\n",
        "# DIFERENÇA - conjunto1.difference(conjunto2)\n",
        "\n",
        "conjunto_a = {1,3,5}\n",
        "conjunto_b={1,3,4}\n",
        "\n",
        "conjunto_a.difference(conjunto_b) # 5\n",
        "conjunto_b.difference(conjunto_a) # 4\n",
        "\n",
        "# TODOS OS ELEMENTOS QUE NÃO ESTÃO NA INTERSECÇÃO - conjunto1.symmetric_diference(conjunto2)\n",
        "\n",
        "conjunto_a = {1,2,3}\n",
        "conjunto_b={2,3,4}\n",
        "\n",
        "conjunto_a.symmetric_difference(conjunto_b) # 1 e 4\n",
        "\n",
        "# CHECA SE UM CONJUNTO É SUBCONJUNTO DE OUTRO\n",
        "\n",
        "c1 = {1,2,3}\n",
        "c2={1,2,3,4,5,6}\n",
        "\n",
        "c1.issubset(c2) # True\n",
        "c2.issuperset(c1) #True\n",
        "\n",
        "# CHECA SE NÃO TEM INTERSECÇÃO\n",
        "\n",
        "c1 = {1,2}\n",
        "c2 = {3,4}\n",
        "\n",
        "c1.isdisjoint(c2) #True - Não se intercecionam\n",
        "\n",
        "# ADICIONA UM ELEMENTO QUE NÃO EXISTE AO CONJUNTO\n",
        "\n",
        "c1.add(30)\n",
        "c1.add(2) #Nao adicona porque esse elemento ja existe no conjunto\n",
        "\n",
        "c1.clear() # LIMPA O CONJUNTO\n",
        "c2.copy() # COPIA O CONJUNTO\n",
        "c2.discard(3) #DESCARTA UMA VALOR ESCOLHIDO SE ELE EXISTIR NA LISTA\n",
        "c2.pop() # REMOVE O PROMEIRO ELEMENTO DA LISTA, DIFERENTEMENTE DA LISTA\n",
        "c2.remove(3) #SE O ELEMENTO NAO EXISTE, DAR UM ERRO\n",
        "len(c2) # TAMANHO\n",
        "10 in c2 # False - CHECA SE O NUMERO ESTA NO MEU CONJUNTO\n",
        "\n",
        "\n",
        "\n",
        "\n"
      ]
    }
  ]
}