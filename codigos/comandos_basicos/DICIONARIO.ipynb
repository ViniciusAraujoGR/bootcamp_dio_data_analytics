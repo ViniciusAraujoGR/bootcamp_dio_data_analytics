{
  "nbformat": 4,
  "nbformat_minor": 0,
  "metadata": {
    "colab": {
      "provenance": []
    },
    "kernelspec": {
      "name": "python3",
      "display_name": "Python 3"
    },
    "language_info": {
      "name": "python"
    }
  },
  "cells": [
    {
      "cell_type": "code",
      "execution_count": null,
      "metadata": {
        "colab": {
          "base_uri": "https://localhost:8080/"
        },
        "id": "LYv0ddZmtfQG",
        "outputId": "9458bfdd-0821-43cf-fe78-b79e4ce6b2a0"
      },
      "outputs": [
        {
          "output_type": "stream",
          "name": "stdout",
          "text": [
            "vagr@poli.br {'nome': 'Vinicius', 'CR': 8.7, 'Matricula': 1123}\n",
            "magr@hotmail.com {'nome': 'Maisa', 'CR': 8.9, 'Matricula': 1124}\n",
            "cagr@gmail.com {'nome': 'Clarisse', 'CR': 8.9, 'Matricula': 1125}\n",
            "lsa@upe.br {'nome': 'Laís', 'CR': 9.3, 'Matricula': 1126}\n"
          ]
        },
        {
          "output_type": "execute_result",
          "data": {
            "text/plain": [
              "0.75"
            ]
          },
          "metadata": {},
          "execution_count": 16
        }
      ],
      "source": [
        " # CONJUNTO NÃO ORDENADO DE PARES CHAVE:VALOR\n",
        "\n",
        "# DECLARAÇÃO\n",
        "\n",
        "pessoaa ={\"nome\":\"Vinicius\", \"idade\":24}\n",
        "\n",
        "pessoa = dict(nome=\"Vinicius\", idade=24) # Declarando um diiconário por meio a função dict\n",
        "\n",
        "pessoa[\"telefone\"]=\"9916-5428\" # Adicionando uma nova chabve ao dicionário\n",
        "\n",
        "pessoa[\"nome\"] #Printa o valor correspondente a chave nome\n",
        "pessoa[\"nome\"]=\"Laís\" # Susbituindo o nome\n",
        "\n",
        "# DICIONÁRIO ANINHADO\n",
        "\n",
        "contatos = {\n",
        "    \"vagr@poli.br\": {\"nome\":\"Vinicius\", \"CR\":8.7},\n",
        "    \"magr@hotmail.com\": {\"nome\":\"Maisa\",\"CR\":8.9},\n",
        "    \"cagr@gmail.com\" : {\"nome\":\"Clarisse\",\"CR\":8.9},\n",
        "    \"lsa@upe.br\": { \"nome\":\"Laís\",\"CR\":9.3,}\n",
        "}\n",
        "\n",
        "contatos[\"lsa@upe.br\"][\"nome\"] # Selecionando uma parte de um dicionário aninhado\n",
        "\n",
        "for indice,email in enumerate(contatos):  # Percorrendo um dicionário aninhado e adiconando uam nova chabve á ele\n",
        "  contatos[email][\"Matricula\"]=1123+indice\n",
        "\n",
        "for email, valor in contatos.items():   # MÉTODO .ITEMS()\n",
        "    print(email,valor)\n",
        "\n",
        "#DICONÁRIO DENTRO DE DICIONÁRIO DENTRO DE DICIONÁRIO\n",
        "\n",
        "contatos = {\n",
        "    \"vagr@poli.br\": {\"nome\":\"Vinicius\", \"CR\":8.7},\n",
        "    \"magr@hotmail.com\": {\"nome\":\"Maisa\",\"CR\":8.9},\n",
        "    \"cagr@gmail.com\" : {\"nome\":\"Clarisse\",\"CR\":8.9},\n",
        "    \"lsa@upe.br\": { \"nome\":\"Laís\",\"CR\":9.3,\"Id\": {\"median\":9.5, \"score\":0.75}}   # DICIONÁRIO DENTRO DE DICIONÁRIO DENTRO DE DICIONÁRIO\n",
        "}\n",
        "\n",
        "contatos[\"lsa@upe.br\"][\"Id\"][\"score\"]  # SELECIONA O DICONÁRIO DENTRO DE UM DICIONÁRIO\n",
        "\n",
        "\n",
        "\n"
      ]
    },
    {
      "cell_type": "code",
      "source": [
        "# MÉTODOS DA CLASSE DICT\n",
        "\n",
        "# dicionario.clear()\n",
        "\n",
        "contatos.clear()\n",
        "\n",
        "# dicionario.copy() - Manipular sem alterar o dicionario original\n",
        "\n",
        "contatos = {\n",
        "    \"vagr@poli.br\": {\"nome\":\"Vinicius\", \"CR\":8.7},\n",
        "    \"magr@hotmail.com\": {\"nome\":\"Maisa\",\"CR\":8.9},\n",
        "    \"cagr@gmail.com\" : {\"nome\":\"Clarisse\",\"CR\":8.9},\n",
        "    \"lsa@upe.br\": { \"nome\":\"Laís\",\"CR\":9.3,}\n",
        "}\n",
        "\n",
        "copia = contatos.copy()\n",
        "\n",
        "# dicionario.fromkeys() -   Cria um dicionário\n",
        "\n",
        "contatos.fromkeys([\"Matricula\",\"score\"],\"vazio\") # Adicona o dicionario e cria valore para ele\n",
        "\n",
        "# dicionario.get()\n",
        "\n",
        "contatos.get(\"chave\") # Retorna a chave se ela existir, se ela não existir ele retorna None\n",
        "contatos.get(\"chave\",{}) # Retorna a chave se ela nao existir, ele vai retornar um {} se existir\n",
        "\n",
        "# dicionario.items() - Retorna um lista de tuplas\n",
        "\n",
        "contatos.items()\n",
        "\n",
        "# dicionario.keys() - Retorna as chaves do dicionário\n",
        "\n",
        "contatos.keys()  # Chaves do primeiro dicionário\n",
        "contatos[\"lsa@upe.br\"].keys() # Chaves do dicionário lsaa@upe.br dentro do dicionário contatos\n",
        "\n",
        "# dicionario.pop() - Remover uma chave\n",
        "\n",
        "contatos.pop(\"vagr@poli.br\",\"NOT FIND\") # Remove a chave se ela existir, ele vai retornar o segundo argumento se não existir\n",
        "#contatos.popitem() -> Remove os itens na sequência, da rum key error se o diconário tiver vazio\n",
        "\n",
        "# dicionario.setdefault() - Criar nova chave\n",
        "\n",
        "contatos[\"lsa@upe.br\"].setdefault(\"nome\",\"Laís\")  #Se a chave ja existe ele não altera\n",
        "contatos[\"lsa@upe.br\"].setdefault(\"idade\",28)  # Adicona a chave se ela existe e o valor dela\n",
        "\n",
        "# dicionario.update() - Atualiza uma chave\n",
        "\n",
        "contatos.update({\"lsa@upe.br\": { \"nome\":\"Lai\"}})  # Susbsitui a chave selecionada no dicionário\n",
        "\n",
        "# in - Checa se uma chave esta dentro de um dicionário\n",
        "\n",
        "res = \"vagr@poli.br\" in contatos #False\n",
        "res= \"nome\" in contatos[\"lsa@upe.br\"] #True\n",
        "\n",
        "# del - Remover\n",
        "\n",
        "del contatos[\"magr@hotmail.com\"]\n",
        "del contatos[\"cagr@gmail.com\"][\"CR\"]\n",
        "\n"
      ],
      "metadata": {
        "colab": {
          "base_uri": "https://localhost:8080/"
        },
        "id": "k_RNJFK_Nxhd",
        "outputId": "60ee8b37-cd79-4b7c-ece9-08dd584a2ced"
      },
      "execution_count": null,
      "outputs": [
        {
          "output_type": "execute_result",
          "data": {
            "text/plain": [
              "{'cagr@gmail.com': {'nome': 'Clarisse'}, 'lsa@upe.br': {'nome': 'Lai'}}"
            ]
          },
          "metadata": {},
          "execution_count": 47
        }
      ]
    },
    {
      "cell_type": "markdown",
      "source": [],
      "metadata": {
        "id": "De3jkIXMuRj7"
      }
    }
  ]
}