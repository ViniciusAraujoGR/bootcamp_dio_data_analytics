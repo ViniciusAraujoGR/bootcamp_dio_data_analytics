{
  "nbformat": 4,
  "nbformat_minor": 0,
  "metadata": {
    "colab": {
      "provenance": []
    },
    "kernelspec": {
      "name": "python3",
      "display_name": "Python 3"
    },
    "language_info": {
      "name": "python"
    }
  },
  "cells": [
    {
      "cell_type": "code",
      "execution_count": 46,
      "metadata": {
        "id": "4H0M8glcZbK3"
      },
      "outputs": [],
      "source": [
        "## LISTAS\n",
        "\n",
        "frutas = [\"laranja\", \"maracuja\", \"acerola\", \"acerola\",\"maracuja\",\"acerola\"]\n",
        "frutas2 = []\n",
        "letras =  list(\"python\")\n",
        "numeros = list(range(10))\n"
      ]
    },
    {
      "cell_type": "code",
      "source": [
        "# ACESSO DIRETO\n",
        "\n",
        "frutas[0] # Primeiro item"
      ],
      "metadata": {
        "colab": {
          "base_uri": "https://localhost:8080/",
          "height": 35
        },
        "id": "PcJXlHBwbZyV",
        "outputId": "44de5df5-bd5c-40bb-835a-7e691b7f038c"
      },
      "execution_count": 10,
      "outputs": [
        {
          "output_type": "execute_result",
          "data": {
            "text/plain": [
              "'laranja'"
            ],
            "application/vnd.google.colaboratory.intrinsic+json": {
              "type": "string"
            }
          },
          "metadata": {},
          "execution_count": 10
        }
      ]
    },
    {
      "cell_type": "code",
      "source": [
        "# INDICES NEGATIVOS\n",
        "\n",
        "frutas[-1] # Ultimo item"
      ],
      "metadata": {
        "colab": {
          "base_uri": "https://localhost:8080/",
          "height": 35
        },
        "id": "7GNbixHDbfvY",
        "outputId": "172d5586-68f8-4f20-df51-e3ac0453a264"
      },
      "execution_count": 11,
      "outputs": [
        {
          "output_type": "execute_result",
          "data": {
            "text/plain": [
              "'acerola'"
            ],
            "application/vnd.google.colaboratory.intrinsic+json": {
              "type": "string"
            }
          },
          "metadata": {},
          "execution_count": 11
        }
      ]
    },
    {
      "cell_type": "code",
      "source": [
        "# LISTAS ANINHADAS = TABELAS, MATRIZES\n",
        "\n",
        "matriz = [\n",
        "    [1, \"a\", 3],\n",
        "    [\"a\",\"b\",\"c\"],\n",
        "    [4, 5, 6]\n",
        "]\n",
        "\n",
        "matriz[0][2] #Pega o terceiro item da primeira lista\n",
        "matriz[-1][-1] #Pega o ultimo item da ultima lista"
      ],
      "metadata": {
        "colab": {
          "base_uri": "https://localhost:8080/"
        },
        "id": "pnCf9E4Mbolg",
        "outputId": "7b7fabad-25cd-46c6-a818-769552f2a7d9"
      },
      "execution_count": 19,
      "outputs": [
        {
          "output_type": "execute_result",
          "data": {
            "text/plain": [
              "6"
            ]
          },
          "metadata": {},
          "execution_count": 19
        }
      ]
    },
    {
      "cell_type": "code",
      "source": [
        "# FATIAMENTO\n",
        "\n",
        "letras[2:] # Exclui os dois primeiros itens da lista\n",
        "letras[:2] # Mantem apenas os dois primeiros itens da lista\n",
        "letras[1:3] # Exclui o primeiro item e mantem os tres ultimos, excluindo esse primeiro\n",
        "letras[0:3:2] #Inicial, final e o step; step é o tipo de andar (anda de 2 em 2) emntão ele vai manter os tres prmeiros itens de 2 em 2\n",
        "letras[::-1] # Inverte a lista\n"
      ],
      "metadata": {
        "colab": {
          "base_uri": "https://localhost:8080/"
        },
        "id": "wiIRSXNFb5xb",
        "outputId": "3151b45b-0b2a-44bf-938b-c6807a40593f"
      },
      "execution_count": 23,
      "outputs": [
        {
          "output_type": "execute_result",
          "data": {
            "text/plain": [
              "['n', 'o', 'h', 't', 'y', 'p']"
            ]
          },
          "metadata": {},
          "execution_count": 23
        }
      ]
    },
    {
      "cell_type": "code",
      "source": [
        "# FUNÇÃO ENUMERATE\n",
        "\n",
        "for indice,fruta in enumerate(frutas):\n",
        "  print(f\"{indice}: {fruta}\")"
      ],
      "metadata": {
        "colab": {
          "base_uri": "https://localhost:8080/"
        },
        "id": "PQntAJA7fM9V",
        "outputId": "8c81297e-0ef6-4165-cfb2-63c0280205a7"
      },
      "execution_count": 25,
      "outputs": [
        {
          "output_type": "stream",
          "name": "stdout",
          "text": [
            "0: laranja\n",
            "1: maracuja\n",
            "2: acerola\n"
          ]
        }
      ]
    },
    {
      "cell_type": "code",
      "source": [
        "# COMPRESSÃO DE LISTAS (ACHANDO OS PARES DE UMA LISTA)\n",
        "\n",
        "# APPEND\n",
        "\n",
        "numeros=range(1,100)\n",
        "pares =[]\n",
        "\n",
        "for numero in numeros:\n",
        "  if numero % 2 == 0:\n",
        "    pares.append(numero)\n",
        "\n",
        "# VERSAO MENOR LIST_COMPREESION)\n",
        "\n",
        "pares2 = [ numero for numero in numeros if numero % 2 == 0]\n"
      ],
      "metadata": {
        "id": "s0FsG--vfxBs"
      },
      "execution_count": 33,
      "outputs": []
    },
    {
      "cell_type": "code",
      "source": [
        "#MODIFICANDO VALORES (Elevando ao quadrado)\n",
        "\n",
        "quadrado=[]\n",
        "\n",
        "for numero in numeros:\n",
        "  quadrado.append(numero**2)\n",
        "\n",
        "# COMPRIMINDO A LISTA\n",
        "\n",
        "quadrado = [numero**2 for numero in numeros]"
      ],
      "metadata": {
        "id": "sdMREM15hFLP"
      },
      "execution_count": 39,
      "outputs": []
    },
    {
      "cell_type": "code",
      "source": [
        "# LIMPANDO UMA LISTA - lista.clear()\n",
        "\n",
        "letras.clear()\n",
        "\n",
        "# COPIANDO UMA LISTA - lista.copy()\n",
        "\n",
        "frutas_copia = frutas.copy()\n",
        "\n",
        "# CONTA QUANTAS VEZE SUM OBJETO APARECE NA LISTA -  lista.count(elemento_lista)\n",
        "\n",
        "frutas.count(\"acerola\")\n",
        "\n",
        "# JUNTAR DUAS LISTAS - lista.extend(outra_lista)\n",
        "\n",
        "novas_frutas = [\"maçã\",\"maçã\",\"banana\",\"acerola\"]\n",
        "\n",
        "frutas.extend(novas_frutas)\n",
        "\n",
        "# PRIMEIRA OCORRENCIA DE UM ELEMENTO -   lista.index(elemento_lista)\n",
        "\n",
        "frutas.index(\"acerola\")\n",
        "\n",
        "# REMOVE O ULTIMO ELEMENTO DA LISTA  -  lista.pop()\n",
        "\n",
        "frutas_copia.pop()\n",
        "\n",
        "# REMOVE TODOS OS ELEMENTOS SELECIONADOS DA LISTA  lista.remove(elemento_lista)\n",
        "\n",
        "frutas_copia.remove(\"maçã\")\n",
        "\n",
        "\n",
        "# REVERTER A LISTA -  lista.reverse()\n",
        "\n",
        "frutas_copia.reverse()\n",
        "\n",
        "# ORDENAR A LISTA - lista.sort()\n",
        "\n",
        "frutas_copia.sort() # Ordena em ordem alfabetica OU numerica\n",
        "frutas_copia.sort(reverse=True) # Coloca em ordem reversa\n",
        "frutas_copia.sort(key=lambda x: len(x)) #Ordena pelo tamanho da palavra\n",
        "frutas_copia.sort(key=lambda x: len(x),reverse=True) #Ordena pelo tamanho da palavra\n",
        "\n",
        "#TAMANHO DA LISTA - len(lista)\n",
        "\n",
        "len(frutas_copia)\n"
      ],
      "metadata": {
        "colab": {
          "base_uri": "https://localhost:8080/"
        },
        "id": "dSBPqf5Niwe6",
        "outputId": "2601451e-43a1-4e93-ed90-883a05016521"
      },
      "execution_count": 79,
      "outputs": [
        {
          "output_type": "execute_result",
          "data": {
            "text/plain": [
              "20"
            ]
          },
          "metadata": {},
          "execution_count": 79
        }
      ]
    },
    {
      "cell_type": "code",
      "source": [
        "frutas_copia.pop()"
      ],
      "metadata": {
        "colab": {
          "base_uri": "https://localhost:8080/",
          "height": 35
        },
        "id": "4rdsFtJ6o0a3",
        "outputId": "d4bd7c2d-e24b-48ef-b24b-bf4886b71468"
      },
      "execution_count": 73,
      "outputs": [
        {
          "output_type": "execute_result",
          "data": {
            "text/plain": [
              "'maçã'"
            ],
            "application/vnd.google.colaboratory.intrinsic+json": {
              "type": "string"
            }
          },
          "metadata": {},
          "execution_count": 73
        }
      ]
    },
    {
      "cell_type": "code",
      "source": [
        "frutas_copia"
      ],
      "metadata": {
        "colab": {
          "base_uri": "https://localhost:8080/"
        },
        "id": "1WLX06eYp1mu",
        "outputId": "ed6c0cd2-8f9d-4c85-e81a-c48a511ef5e7"
      },
      "execution_count": 74,
      "outputs": [
        {
          "output_type": "execute_result",
          "data": {
            "text/plain": [
              "['laranja',\n",
              " 'maracuja',\n",
              " 'acerola',\n",
              " 'acerola',\n",
              " 'maracuja',\n",
              " 'acerola',\n",
              " 'maçã',\n",
              " 'maçã',\n",
              " 'banana',\n",
              " 'acerola']"
            ]
          },
          "metadata": {},
          "execution_count": 74
        }
      ]
    },
    {
      "cell_type": "code",
      "source": [
        "# CONTE QUANTAS VEZES CADA ELEMENTO DA LISTA APARECE NA LISTA\n",
        "\n",
        "frutas_copia = frutas.copy()\n",
        "\n",
        "for fruta in frutas_copia:\n",
        "  qtd=frutas.count(fruta)\n",
        "  print(f\" {fruta}: {qtd} \")\n",
        "  frutas_copia.remove(fruta)\n",
        "\n",
        "\n"
      ],
      "metadata": {
        "colab": {
          "base_uri": "https://localhost:8080/"
        },
        "id": "22Fv9aD6i579",
        "outputId": "3924fa20-fe61-42b3-aceb-8a7aabaa67be"
      },
      "execution_count": 59,
      "outputs": [
        {
          "output_type": "stream",
          "name": "stdout",
          "text": [
            " laranja: 1 \n",
            " acerola: 4 \n",
            " maracuja: 2 \n",
            " maçã: 2 \n",
            " banana: 1 \n"
          ]
        }
      ]
    }
  ]
}