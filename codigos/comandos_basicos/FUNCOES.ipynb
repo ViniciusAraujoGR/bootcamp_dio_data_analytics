{
  "nbformat": 4,
  "nbformat_minor": 0,
  "metadata": {
    "colab": {
      "provenance": []
    },
    "kernelspec": {
      "name": "python3",
      "display_name": "Python 3"
    },
    "language_info": {
      "name": "python"
    }
  },
  "cells": [
    {
      "cell_type": "code",
      "execution_count": null,
      "metadata": {
        "colab": {
          "base_uri": "https://localhost:8080/"
        },
        "id": "MZqfTSSiiLNx",
        "outputId": "6a9b5664-7164-425d-e083-b3f4b7a9fb11"
      },
      "outputs": [
        {
          "output_type": "stream",
          "name": "stdout",
          "text": [
            "Olá Mundo!\n",
            " Oi, Anônimo. SEJA BEM-VINDO!!\n",
            " Oi, Vini. SEJA BEM-VINDO!!\n",
            "\n",
            "\n"
          ]
        }
      ],
      "source": [
        "\n",
        "\n",
        "# DECLARAÇÃO DE FUNÇÕES - PARAMETROS, ENTRDAS E SAÍDAS (PARA O CASO DO PYTHON PODEM TER MAIS DE UMA SAÍDA)\n",
        "\n",
        "\n",
        "def exibir_mensagem(): #Por default, retorna None se não tiver um return\n",
        "  print(\"Olá Mundo!\")\n",
        "\n",
        "def exibir_nome(nome): #SE nao for colocado nada, dará erro\n",
        "  print(f\" Oi, {nome}. SEJA BEM-VINDO!!\")\n",
        "\n",
        "def exibir_nome(nome=\"Anônimo\"):  #Define um parametro default, caso não tenha sido colcoado nenhum parametro, printará a variavel selecionada como default\n",
        "  print(f\" Oi, {nome}. SEJA BEM-VINDO!!\")\n",
        "\n",
        "\n",
        "exibir_mensagem()\n",
        "exibir_nome()\n",
        "exibir_nome(\"Vini\")\n",
        "print(\"\\n\")\n"
      ]
    },
    {
      "cell_type": "code",
      "source": [
        "\n",
        "# RETORNO DE VALORES\n",
        "\n",
        "def total(numeros):  # Retorna a soma total de numeros\n",
        "  return sum(numeros)\n",
        "\n",
        "def suc_antr(numero):  # Retorna o scuessor e o antecessor\n",
        "  ant=numero-1\n",
        "  suc=numero+1\n",
        "  return suc,ant\n",
        "\n",
        "print(total([23,56,78]))\n",
        "print(suc_antr(157))\n",
        "print(suc_antr(total([23,56,78]))) # Chamanbdo uam função em outra\n",
        "print(\"\\n\")\n"
      ],
      "metadata": {
        "colab": {
          "base_uri": "https://localhost:8080/"
        },
        "id": "zDmHECJctk2F",
        "outputId": "44b26010-cd96-4a11-9fd0-7a5aab77e3fe"
      },
      "execution_count": null,
      "outputs": [
        {
          "output_type": "stream",
          "name": "stdout",
          "text": [
            "157\n",
            "(158, 156)\n",
            "(158, 156)\n",
            "\n",
            "\n"
          ]
        }
      ]
    },
    {
      "cell_type": "code",
      "source": [
        "\n",
        "\n",
        "# ARGUEMENTOS NOEMADOS\n",
        "\n",
        "def salvar_carro(modelo,marca,placa,ano):\n",
        "  print(f\"Carro salvo no Banco de Dados: {modelo}\\ {marca} \\ {placa} \\ {ano}\")\n",
        "\n",
        "\n",
        "salvar_carro(\"Palio\", \"Fiat\", \"CTTPS20\", 2020)\n",
        "salvar_carro(placa=\"QYA234\",ano=2023,modelo=\"Tiggo\",marca=\"BYD\") # Ao nomear os argumentos eu excluo a necessidade de coloca-los na mesma ordem da função\n",
        "salvar_carro(**{\"ano\":\"2024\",\"modelo\":\"Gol\",  \"placa\":\"FGD1440\",\"marca\":\"Wolkswagen\"}) # Ao colcoar o **, ele informa que estoue enviando um duicionário com os parametros, tendop os memsos parametros não há necessidade de colocar em ordem\n",
        "print(\"\\n\\n\\n\")\n"
      ],
      "metadata": {
        "colab": {
          "base_uri": "https://localhost:8080/"
        },
        "id": "uK2D9SBstnYu",
        "outputId": "7708a7fd-7673-4128-ad02-313fc09ba668"
      },
      "execution_count": null,
      "outputs": [
        {
          "output_type": "stream",
          "name": "stdout",
          "text": [
            "Carro salvo no Banco de Dados: Palio\\ Fiat \\ CTTPS20 \\ 2020\n",
            "Carro salvo no Banco de Dados: Tiggo\\ BYD \\ QYA234 \\ 2023\n",
            "Carro salvo no Banco de Dados: Gol\\ Wolkswagen \\ FGD1440 \\ 2024\n",
            "\n",
            "\n",
            "\n",
            "\n"
          ]
        }
      ]
    },
    {
      "cell_type": "code",
      "source": [
        " # ARGS E KWARGS, onde temos uma função convencionada onde *args é uma tupla ou lista e **kwargs eh um dicionario\n",
        "\n",
        "\n",
        "def exibir_poema(data_extenso, *args, **kwargs):  # Tudo que vier depois do argumento data_extenso e tiver separado por virgula ele vai interpretar cdomod entro da tupla args. Para começar com o kwargs quando tiver chave=valor, eel vai mcomeçar interpretar como kwargs\n",
        "\n",
        "  texto=\"\\n\".join(args) #Adiciona uma espaço entre os valores da tupla\n",
        "  meta_dados= \"\\n\".join([f\"{chave.title()}: {valor}\" for chave, valor in kwargs.items()]) #Separa os valores dentro das chaves e adicona espaços\n",
        "\n",
        "  mensagem = f\"{data_extenso}\\n\\n{texto}\\n\\n{meta_dados}\"\n",
        "  print(mensagem)\n",
        "\n",
        "exibir_poema(\"Sexta-Feira, 20 de Abril\",\"Zen of Python\", \"Beautiful is better than ugly.\", autor=\"Tim Peters\", ano=1999)\n"
      ],
      "metadata": {
        "colab": {
          "base_uri": "https://localhost:8080/"
        },
        "id": "cED1RSIStaax",
        "outputId": "11a56cf9-ddd3-46c6-b08d-a56d42993c8d"
      },
      "execution_count": null,
      "outputs": [
        {
          "output_type": "stream",
          "name": "stdout",
          "text": [
            "Sexta-Feira, 20 de Abril\n",
            "\n",
            "Zen of Python\n",
            "Beautiful is better than ugly.\n",
            "\n",
            "Autor: Tim Peters\n",
            "Ano: 1999\n"
          ]
        }
      ]
    }
  ]
}